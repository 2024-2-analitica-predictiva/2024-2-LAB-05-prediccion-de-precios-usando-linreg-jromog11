{
 "cells": [
  {
   "cell_type": "code",
   "execution_count": 150,
   "metadata": {},
   "outputs": [],
   "source": [
    "TESTING = [\n",
    "    {\n",
    "        \"type\": \"metrics\",\n",
    "        \"dataset\": \"train\",\n",
    "        \"r2\": 0.889,\n",
    "        \"mse\": 5.950,\n",
    "        \"mad\": 1.600,\n",
    "    },\n",
    "    {\n",
    "        \"type\": \"metrics\",\n",
    "        \"dataset\": \"test\",\n",
    "        \"r2\": 0.728,\n",
    "        \"mse\": 32.910,\n",
    "        \"mad\": 2.430,\n",
    "    },\n",
    "]\n"
   ]
  },
  {
   "cell_type": "code",
   "execution_count": 151,
   "metadata": {},
   "outputs": [],
   "source": [
    "# importacion de datasets\n",
    "\n",
    "import pandas as pd\n",
    "\n",
    "train = pd.read_csv('../files/input/train_data.csv.zip', compression='zip')\n",
    "test = pd.read_csv('../files/input/test_data.csv.zip', compression='zip')"
   ]
  },
  {
   "cell_type": "code",
   "execution_count": 152,
   "metadata": {},
   "outputs": [],
   "source": [
    "# Paso 1: Preprocesamiento de datos\n",
    "\n",
    "def preprocesar_data(df):\n",
    "    df['Age'] = 2021 - df['Year']\n",
    "    df = df.drop(columns=['Year', 'Car_Name'])\n",
    "    return df\n",
    "\n",
    "train = preprocesar_data(train)\n",
    "test = preprocesar_data(test)"
   ]
  },
  {
   "cell_type": "code",
   "execution_count": 153,
   "metadata": {},
   "outputs": [],
   "source": [
    "# eliminar outliers\n",
    "def calcular_outliers_iqr(df, column):\n",
    "    if pd.api.types.is_numeric_dtype(df[column]):\n",
    "        Q1 = df[column].quantile(0.25)\n",
    "        Q3 = df[column].quantile(0.75)\n",
    "        IQR = Q3 - Q1\n",
    "        lower_bound = Q1 - 1.43 * IQR\n",
    "        upper_bound = Q3 + 1.43 * IQR\n",
    "        return df[(df[column] < lower_bound) | (df[column] > upper_bound)]\n",
    "    return pd.DataFrame()\n",
    "\n",
    "outliers_train = calcular_outliers_iqr(train, 'Selling_Price')\n",
    "outliers_test = calcular_outliers_iqr(test, 'Selling_Price')\n",
    "\n",
    "train_without_outliers = train[~train.index.isin(outliers_train.index)]\n",
    "test_without_outliers = test[~test.index.isin(outliers_test.index)]\n"
   ]
  },
  {
   "cell_type": "code",
   "execution_count": 154,
   "metadata": {},
   "outputs": [],
   "source": [
    "# Paso 2: Dividir el dataset en conjunto de entrenamiento y prueba\n",
    "\n",
    "x_train = train.drop('Present_Price', axis=1)\n",
    "y_train = train['Present_Price']\n",
    "x_test = test.drop('Present_Price', axis=1)\n",
    "y_test = test['Present_Price']\n",
    "\n",
    "x_train_without_outliers = train_without_outliers.drop('Present_Price', axis=1)\n",
    "y_train_without_outliers = train_without_outliers['Present_Price']\n",
    "x_test_without_outliers = test_without_outliers.drop('Present_Price', axis=1)\n",
    "y_test_without_outliers = test_without_outliers['Present_Price']"
   ]
  },
  {
   "cell_type": "code",
   "execution_count": 155,
   "metadata": {},
   "outputs": [
    {
     "name": "stdout",
     "output_type": "stream",
     "text": [
      "Train score: -12.19587478926426\n",
      "Test score: -38.31682870634173\n"
     ]
    }
   ],
   "source": [
    "# Paso 3: Crear pipeline\n",
    "\n",
    "from sklearn.pipeline import Pipeline\n",
    "from sklearn.compose import ColumnTransformer\n",
    "from sklearn.preprocessing import MinMaxScaler, OneHotEncoder\n",
    "from sklearn.linear_model import LinearRegression\n",
    "from sklearn.feature_selection import SelectKBest, f_regression\n",
    "from sklearn.metrics import mean_squared_error\n",
    "\n",
    "categorical_features = ['Fuel_Type', 'Selling_type', 'Transmission']\n",
    "numerical_features = ['Selling_Price', 'Driven_kms', 'Age', 'Owner']\n",
    "\n",
    "def negative_mean_squared_error(y_true, y_pred):\n",
    "    return -mean_squared_error(y_true, y_pred)\n",
    "\n",
    "transformer = ColumnTransformer(\n",
    "    transformers=[\n",
    "        ('cat', OneHotEncoder(handle_unknown='ignore'), categorical_features),\n",
    "        ('num', MinMaxScaler(), numerical_features)\n",
    "    ]\n",
    ")\n",
    "\n",
    "pipeline = Pipeline(steps=[\n",
    "    ('preprocessor', transformer),\n",
    "    ('selector', SelectKBest(score_func=f_regression, k=2)),  \n",
    "    ('model', LinearRegression())  \n",
    "])\n",
    "\n",
    "pipeline.fit(x_train_without_outliers, y_train_without_outliers)\n",
    "print('Train score:', negative_mean_squared_error(y_train, pipeline.predict(x_train)))\n",
    "print('Test score:', negative_mean_squared_error(y_test, pipeline.predict(x_test)))"
   ]
  },
  {
   "cell_type": "code",
   "execution_count": 156,
   "metadata": {},
   "outputs": [
    {
     "name": "stdout",
     "output_type": "stream",
     "text": [
      "Fitting 10 folds for each of 11 candidates, totalling 110 fits\n",
      "Best params: {'model__fit_intercept': True, 'model__positive': True, 'preprocessor__num__feature_range': (0, 1), 'selector__k': 'all'}\n",
      "Best score: -7.176214410084455\n",
      "Train score: -4.974796256392159\n",
      "Test score: -9.228835990654138\n"
     ]
    }
   ],
   "source": [
    "# Paso 4: Optimizar hiperparámetros\n",
    "\n",
    "from sklearn.model_selection import GridSearchCV\n",
    "\n",
    "param_grid = {\n",
    "    'selector__k': [2],\n",
    "}\n",
    "\n",
    "grid_params = {\n",
    "    'preprocessor__num__feature_range': [(0, 1)],\n",
    "    'selector__k': [1, 2, 3, 4, 5, 6, 7, 8, 9, 10, 'all'],\n",
    "    'model__fit_intercept': [True],\n",
    "    'model__positive': [True],\n",
    "}\n",
    "\n",
    "grid_search = GridSearchCV(pipeline, param_grid=grid_params, cv=10, scoring='neg_mean_squared_error', verbose=1, n_jobs=-1)\n",
    "grid_search.fit(x_train_without_outliers, y_train_without_outliers)\n",
    "print('Best params:', grid_search.best_params_)\n",
    "print('Best score:', grid_search.best_score_)\n",
    "print('Train score:', negative_mean_squared_error(y_train_without_outliers, grid_search.predict(x_train_without_outliers)))\n",
    "print('Test score:', negative_mean_squared_error(y_test_without_outliers, grid_search.predict(x_test_without_outliers)))"
   ]
  },
  {
   "cell_type": "code",
   "execution_count": 157,
   "metadata": {},
   "outputs": [],
   "source": [
    "# Paso 5: Guardar el modelo\n",
    "\n",
    "import os\n",
    "import gzip\n",
    "import pickle\n",
    "\n",
    "os.makedirs('../files/models', exist_ok=True)\n",
    "with gzip.open('../files/models/model.pkl.gz', 'wb') as f:\n",
    "    pickle.dump(grid_search, f)"
   ]
  },
  {
   "cell_type": "code",
   "execution_count": 158,
   "metadata": {},
   "outputs": [],
   "source": [
    "# Paso 6: Calcular métricas\n",
    "\n",
    "from sklearn.metrics import mean_squared_error, r2_score, mean_absolute_error\n",
    "\n",
    "y_train_pred = grid_search.predict(x_train)\n",
    "y_test_pred = grid_search.predict(x_test)\n",
    "\n",
    "metrics_train = {\n",
    "    'type': 'metrics',\n",
    "    'dataset': 'train',\n",
    "    'r2': r2_score(y_train, y_train_pred),\n",
    "    'mse': mean_squared_error(y_train, y_train_pred),\n",
    "    'mad': mean_absolute_error(y_train, y_train_pred),\n",
    "}\n",
    "\n",
    "metrics_test = {\n",
    "    'type': 'metrics',\n",
    "    'dataset': 'test',\n",
    "    'r2': r2_score(y_test, y_test_pred),\n",
    "    'mse': mean_squared_error(y_test, y_test_pred),\n",
    "    'mad': mean_absolute_error(y_test, y_test_pred),\n",
    "}\n",
    "\n",
    "metrics = [metrics_train, metrics_test]"
   ]
  },
  {
   "cell_type": "code",
   "execution_count": 159,
   "metadata": {},
   "outputs": [],
   "source": [
    "# Guardar las métricas en un archivo JSON\n",
    "\n",
    "import json\n",
    "\n",
    "os.makedirs('../files/output', exist_ok=True)\n",
    "with open('../files/output/metrics.json', 'w') as f:\n",
    "    for metric in metrics:\n",
    "        f.write(json.dumps(metric) + '\\n')"
   ]
  }
 ],
 "metadata": {
  "kernelspec": {
   "display_name": "Python 3",
   "language": "python",
   "name": "python3"
  },
  "language_info": {
   "codemirror_mode": {
    "name": "ipython",
    "version": 3
   },
   "file_extension": ".py",
   "mimetype": "text/x-python",
   "name": "python",
   "nbconvert_exporter": "python",
   "pygments_lexer": "ipython3",
   "version": "3.11.5"
  }
 },
 "nbformat": 4,
 "nbformat_minor": 2
}
